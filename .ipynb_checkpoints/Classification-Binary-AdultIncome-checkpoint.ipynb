{
 "cells": [
  {
   "cell_type": "markdown",
   "metadata": {},
   "source": [
    "The data contains anonymous information such as age, occupation, education, working class, etc. The goal is to train a binary classifier to predict the income which has two possible values ‘>50K’ and ‘<50K’. There are 48842 instances and 14 attributes in the dataset. The data contains a good blend of categorical, numerical and missing values."
   ]
  },
  {
   "cell_type": "code",
   "execution_count": 1,
   "metadata": {},
   "outputs": [],
   "source": [
    "from pyspark.sql import SparkSession"
   ]
  },
  {
   "cell_type": "code",
   "execution_count": 2,
   "metadata": {},
   "outputs": [],
   "source": [
    "spark= SparkSession.builder.appName('BinaryClassification').getOrCreate()\n",
    "df= spark.read.csv('adult', sep=',',inferSchema=True,header=True)"
   ]
  },
  {
   "cell_type": "code",
   "execution_count": 3,
   "metadata": {},
   "outputs": [
    {
     "name": "stdout",
     "output_type": "stream",
     "text": [
      "+---+-----------------+--------+----------+---------------+--------------------+------------------+--------------+------+-------+------------+------------+--------------+--------------+------+\n",
      "|age|        workclass|  fnlwgt| education|educational-num|      marital-status|        occupation|  relationship|  race| gender|capital-gain|capital-loss|hours-per-week|native-country|income|\n",
      "+---+-----------------+--------+----------+---------------+--------------------+------------------+--------------+------+-------+------------+------------+--------------+--------------+------+\n",
      "| 39|        State-gov| 77516.0| Bachelors|           13.0|       Never-married|      Adm-clerical| Not-in-family| White|   Male|      2174.0|         0.0|          40.0| United-States| <=50K|\n",
      "| 50| Self-emp-not-inc| 83311.0| Bachelors|           13.0|  Married-civ-spouse|   Exec-managerial|       Husband| White|   Male|         0.0|         0.0|          13.0| United-States| <=50K|\n",
      "| 38|          Private|215646.0|   HS-grad|            9.0|            Divorced| Handlers-cleaners| Not-in-family| White|   Male|         0.0|         0.0|          40.0| United-States| <=50K|\n",
      "| 53|          Private|234721.0|      11th|            7.0|  Married-civ-spouse| Handlers-cleaners|       Husband| Black|   Male|         0.0|         0.0|          40.0| United-States| <=50K|\n",
      "| 28|          Private|338409.0| Bachelors|           13.0|  Married-civ-spouse|    Prof-specialty|          Wife| Black| Female|         0.0|         0.0|          40.0|          Cuba| <=50K|\n",
      "| 37|          Private|284582.0|   Masters|           14.0|  Married-civ-spouse|   Exec-managerial|          Wife| White| Female|         0.0|         0.0|          40.0| United-States| <=50K|\n",
      "| 49|          Private|160187.0|       9th|            5.0| Married-spouse-a...|     Other-service| Not-in-family| Black| Female|         0.0|         0.0|          16.0|       Jamaica| <=50K|\n",
      "| 52| Self-emp-not-inc|209642.0|   HS-grad|            9.0|  Married-civ-spouse|   Exec-managerial|       Husband| White|   Male|         0.0|         0.0|          45.0| United-States|  >50K|\n",
      "| 31|          Private| 45781.0|   Masters|           14.0|       Never-married|    Prof-specialty| Not-in-family| White| Female|     14084.0|         0.0|          50.0| United-States|  >50K|\n",
      "| 42|          Private|159449.0| Bachelors|           13.0|  Married-civ-spouse|   Exec-managerial|       Husband| White|   Male|      5178.0|         0.0|          40.0| United-States|  >50K|\n",
      "+---+-----------------+--------+----------+---------------+--------------------+------------------+--------------+------+-------+------------+------------+--------------+--------------+------+\n",
      "only showing top 10 rows\n",
      "\n"
     ]
    }
   ],
   "source": [
    "df.show(10)"
   ]
  },
  {
   "cell_type": "code",
   "execution_count": 4,
   "metadata": {},
   "outputs": [
    {
     "name": "stdout",
     "output_type": "stream",
     "text": [
      "root\n",
      " |-- age: integer (nullable = true)\n",
      " |-- workclass: string (nullable = true)\n",
      " |-- fnlwgt: double (nullable = true)\n",
      " |-- education: string (nullable = true)\n",
      " |-- educational-num: double (nullable = true)\n",
      " |-- marital-status: string (nullable = true)\n",
      " |-- occupation: string (nullable = true)\n",
      " |-- relationship: string (nullable = true)\n",
      " |-- race: string (nullable = true)\n",
      " |-- gender: string (nullable = true)\n",
      " |-- capital-gain: double (nullable = true)\n",
      " |-- capital-loss: double (nullable = true)\n",
      " |-- hours-per-week: double (nullable = true)\n",
      " |-- native-country: string (nullable = true)\n",
      " |-- income: string (nullable = true)\n",
      "\n"
     ]
    }
   ],
   "source": [
    "\n",
    "cols = df.columns\n",
    "df.printSchema()"
   ]
  },
  {
   "cell_type": "code",
   "execution_count": 5,
   "metadata": {},
   "outputs": [
    {
     "data": {
      "text/plain": [
       "48842"
      ]
     },
     "execution_count": 5,
     "metadata": {},
     "output_type": "execute_result"
    }
   ],
   "source": [
    "df.count()"
   ]
  },
  {
   "cell_type": "markdown",
   "metadata": {},
   "source": [
    "Total Observations in the dataset : 48842"
   ]
  },
  {
   "cell_type": "code",
   "execution_count": 6,
   "metadata": {},
   "outputs": [],
   "source": [
    "from pyspark.ml import Pipeline\n",
    "from pyspark.ml.feature import OneHotEncoderEstimator, StringIndexer, VectorAssembler"
   ]
  },
  {
   "cell_type": "markdown",
   "metadata": {},
   "source": [
    "Categorical Columns Staging "
   ]
  },
  {
   "cell_type": "code",
   "execution_count": 7,
   "metadata": {},
   "outputs": [],
   "source": [
    "categoricalColumns = [\"workclass\", \"education\", \"marital-status\", \"occupation\", \"relationship\", \n",
    "                      \"race\", \"gender\", \"native-country\"]"
   ]
  },
  {
   "cell_type": "code",
   "execution_count": 8,
   "metadata": {},
   "outputs": [],
   "source": [
    "stages = []"
   ]
  },
  {
   "cell_type": "code",
   "execution_count": 9,
   "metadata": {},
   "outputs": [],
   "source": [
    "for categoricalCol in categoricalColumns:\n",
    "    stringIndexer = StringIndexer(inputCol = categoricalCol, outputCol = categoricalCol + 'Index')\n",
    "    encoder = OneHotEncoderEstimator(inputCols=[stringIndexer.getOutputCol()], outputCols=[categoricalCol + \"classVec\"])\n",
    "    stages += [stringIndexer, encoder]"
   ]
  },
  {
   "cell_type": "markdown",
   "metadata": {},
   "source": [
    "Lable Indexing."
   ]
  },
  {
   "cell_type": "code",
   "execution_count": 10,
   "metadata": {},
   "outputs": [],
   "source": [
    "label_stringIdx = StringIndexer(inputCol = 'income', outputCol = 'label')\n",
    "stages += [label_stringIdx]"
   ]
  },
  {
   "cell_type": "markdown",
   "metadata": {},
   "source": [
    "Numerical Columns Indexing : "
   ]
  },
  {
   "cell_type": "code",
   "execution_count": 11,
   "metadata": {},
   "outputs": [],
   "source": [
    "numericCols = [\"age\", \"fnlwgt\", \"educational-num\", \"capital-gain\", \"capital-loss\", \"hours-per-week\"]"
   ]
  },
  {
   "cell_type": "code",
   "execution_count": 12,
   "metadata": {},
   "outputs": [
    {
     "name": "stdout",
     "output_type": "stream",
     "text": [
      "['workclassclassVec', 'educationclassVec', 'marital-statusclassVec', 'occupationclassVec', 'relationshipclassVec', 'raceclassVec', 'genderclassVec', 'native-countryclassVec', 'age', 'fnlwgt', 'educational-num', 'capital-gain', 'capital-loss', 'hours-per-week']\n"
     ]
    }
   ],
   "source": [
    "assemblerInputs = [c + \"classVec\" for c in categoricalColumns] + numericCols\n",
    "print(assemblerInputs)"
   ]
  },
  {
   "cell_type": "code",
   "execution_count": 13,
   "metadata": {},
   "outputs": [
    {
     "name": "stdout",
     "output_type": "stream",
     "text": [
      "VectorAssembler_50e1fbf664a3\n"
     ]
    }
   ],
   "source": [
    "assembler = VectorAssembler(inputCols=assemblerInputs, outputCol=\"features\")\n",
    "print(assembler)"
   ]
  },
  {
   "cell_type": "code",
   "execution_count": 14,
   "metadata": {},
   "outputs": [],
   "source": [
    "stages += [assembler]"
   ]
  },
  {
   "cell_type": "code",
   "execution_count": 15,
   "metadata": {},
   "outputs": [
    {
     "name": "stdout",
     "output_type": "stream",
     "text": [
      "[StringIndexer_5e7c4813cdf0, OneHotEncoderEstimator_5d695f056a34, StringIndexer_76d734be0f04, OneHotEncoderEstimator_455a5e0cf10f, StringIndexer_297324e700b6, OneHotEncoderEstimator_5879eb2c4a77, StringIndexer_c8be966fdd33, OneHotEncoderEstimator_e42a15d82f3b, StringIndexer_d10abda033b9, OneHotEncoderEstimator_d6f6924e3e0c, StringIndexer_473d7bf16973, OneHotEncoderEstimator_80afe5fb08b9, StringIndexer_86e2c2eb3503, OneHotEncoderEstimator_a60e6632ed64, StringIndexer_64d4135c1807, OneHotEncoderEstimator_a58e8e927ce9, StringIndexer_157882b1a348, VectorAssembler_50e1fbf664a3]\n"
     ]
    }
   ],
   "source": [
    "print(stages)"
   ]
  },
  {
   "cell_type": "markdown",
   "metadata": {},
   "source": [
    "Pipelining "
   ]
  },
  {
   "cell_type": "code",
   "execution_count": 16,
   "metadata": {},
   "outputs": [],
   "source": [
    "pipeline = Pipeline(stages=stages)\n",
    "pipelineModel = pipeline.fit(df)\n",
    "df = pipelineModel.transform(df)"
   ]
  },
  {
   "cell_type": "code",
   "execution_count": 17,
   "metadata": {},
   "outputs": [
    {
     "name": "stdout",
     "output_type": "stream",
     "text": [
      "+-----+--------------------+---+-----------------+--------+----------+---------------+-------------------+------------------+--------------+------+------+------------+------------+--------------+--------------+------+\n",
      "|label|            features|age|        workclass|  fnlwgt| education|educational-num|     marital-status|        occupation|  relationship|  race|gender|capital-gain|capital-loss|hours-per-week|native-country|income|\n",
      "+-----+--------------------+---+-----------------+--------+----------+---------------+-------------------+------------------+--------------+------+------+------------+------------+--------------+--------------+------+\n",
      "|  0.0|(100,[4,10,24,32,...| 39|        State-gov| 77516.0| Bachelors|           13.0|      Never-married|      Adm-clerical| Not-in-family| White|  Male|      2174.0|         0.0|          40.0| United-States| <=50K|\n",
      "|  0.0|(100,[1,10,23,31,...| 50| Self-emp-not-inc| 83311.0| Bachelors|           13.0| Married-civ-spouse|   Exec-managerial|       Husband| White|  Male|         0.0|         0.0|          13.0| United-States| <=50K|\n",
      "|  0.0|(100,[0,8,25,38,4...| 38|          Private|215646.0|   HS-grad|            9.0|           Divorced| Handlers-cleaners| Not-in-family| White|  Male|         0.0|         0.0|          40.0| United-States| <=50K|\n",
      "+-----+--------------------+---+-----------------+--------+----------+---------------+-------------------+------------------+--------------+------+------+------------+------------+--------------+--------------+------+\n",
      "only showing top 3 rows\n",
      "\n"
     ]
    }
   ],
   "source": [
    "selectedcols = [\"label\", \"features\"] + cols\n",
    "df = df.select(selectedcols)\n",
    "df.show(3)"
   ]
  },
  {
   "cell_type": "markdown",
   "metadata": {},
   "source": [
    "Training & Test Data "
   ]
  },
  {
   "cell_type": "code",
   "execution_count": 18,
   "metadata": {},
   "outputs": [
    {
     "name": "stdout",
     "output_type": "stream",
     "text": [
      "34238\n",
      "14604\n"
     ]
    }
   ],
   "source": [
    "train, test = df.randomSplit([0.7, 0.3], seed=100)\n",
    "print(train.count())\n",
    "print(test.count())"
   ]
  },
  {
   "cell_type": "markdown",
   "metadata": {},
   "source": [
    "# Logistic Regression"
   ]
  },
  {
   "cell_type": "code",
   "execution_count": 19,
   "metadata": {},
   "outputs": [],
   "source": [
    "from pyspark.ml.classification import LogisticRegression\n",
    "\n",
    "lr = LogisticRegression(labelCol = 'label', featuresCol = 'features', maxIter=10)\n",
    "lrModel = lr.fit(train)"
   ]
  },
  {
   "cell_type": "code",
   "execution_count": 20,
   "metadata": {},
   "outputs": [
    {
     "data": {
      "text/plain": [
       "[Row(label=0.0, features=SparseVector(100, {0: 1.0, 8: 1.0, 23: 1.0, 29: 1.0, 43: 1.0, 48: 1.0, 52: 1.0, 53: 1.0, 94: 26.0, 95: 58426.0, 96: 9.0, 99: 50.0}), age=26, workclass=' Private', fnlwgt=58426.0, education=' HS-grad', educational-num=9.0, marital-status=' Married-civ-spouse', occupation=' Prof-specialty', relationship=' Husband', race=' White', gender=' Male', capital-gain=0.0, capital-loss=0.0, hours-per-week=50.0, native-country=' United-States', income=' <=50K', rawPrediction=DenseVector([0.5645, -0.4683, 0.2903, -0.3865]), probability=DenseVector([0.3996, 0.1423, 0.3038, 0.1544]), prediction=0.0)]"
      ]
     },
     "execution_count": 20,
     "metadata": {},
     "output_type": "execute_result"
    }
   ],
   "source": [
    "\n",
    "predictions = lrModel.transform(test)\n",
    "predictions.take(1)"
   ]
  },
  {
   "cell_type": "code",
   "execution_count": 21,
   "metadata": {},
   "outputs": [
    {
     "name": "stdout",
     "output_type": "stream",
     "text": [
      "+-----+----------+--------------------+---+---------------+\n",
      "|label|prediction|         probability|age|     occupation|\n",
      "+-----+----------+--------------------+---+---------------+\n",
      "|  0.0|       0.0|[0.39959773075018...| 26| Prof-specialty|\n",
      "|  0.0|       0.0|[0.39231673832589...| 30| Prof-specialty|\n",
      "|  0.0|       0.0|[0.39419842744541...| 31| Prof-specialty|\n",
      "|  0.0|       0.0|[0.38926267474880...| 32| Prof-specialty|\n",
      "|  0.0|       0.0|[0.40537909769263...| 39| Prof-specialty|\n",
      "|  0.0|       0.0|[0.37721610716484...| 47| Prof-specialty|\n",
      "|  0.0|       0.0|[0.38566036472791...| 50| Prof-specialty|\n",
      "|  0.0|       0.0|[0.38624026444156...| 51| Prof-specialty|\n",
      "|  0.0|       0.0|[0.39983233242197...| 60| Prof-specialty|\n",
      "|  0.0|       0.0|[0.38994746593588...| 61| Prof-specialty|\n",
      "+-----+----------+--------------------+---+---------------+\n",
      "only showing top 10 rows\n",
      "\n"
     ]
    }
   ],
   "source": [
    "selected = predictions.select(\"label\", \"prediction\", \"probability\", \"age\", \"occupation\")\n",
    "selected.show(10)"
   ]
  },
  {
   "cell_type": "markdown",
   "metadata": {},
   "source": [
    "Evaluate Logistic Regression Model"
   ]
  },
  {
   "cell_type": "code",
   "execution_count": 22,
   "metadata": {},
   "outputs": [
    {
     "name": "stdout",
     "output_type": "stream",
     "text": [
      "Area Under ROC 0.31253339454697826\n"
     ]
    }
   ],
   "source": [
    "from pyspark.ml.evaluation import BinaryClassificationEvaluator\n",
    "\n",
    "evaluator = BinaryClassificationEvaluator(rawPredictionCol=\"rawPrediction\")\n",
    "print('Area Under ROC', evaluator.evaluate(predictions))"
   ]
  },
  {
   "cell_type": "code",
   "execution_count": 23,
   "metadata": {},
   "outputs": [
    {
     "data": {
      "text/plain": [
       "'areaUnderROC'"
      ]
     },
     "execution_count": 23,
     "metadata": {},
     "output_type": "execute_result"
    }
   ],
   "source": [
    "evaluator.getMetricName()"
   ]
  },
  {
   "cell_type": "code",
   "execution_count": null,
   "metadata": {},
   "outputs": [],
   "source": []
  }
 ],
 "metadata": {
  "kernelspec": {
   "display_name": "Python 3",
   "language": "python",
   "name": "python3"
  },
  "language_info": {
   "codemirror_mode": {
    "name": "ipython",
    "version": 3
   },
   "file_extension": ".py",
   "mimetype": "text/x-python",
   "name": "python",
   "nbconvert_exporter": "python",
   "pygments_lexer": "ipython3",
   "version": "3.7.7"
  }
 },
 "nbformat": 4,
 "nbformat_minor": 4
}
