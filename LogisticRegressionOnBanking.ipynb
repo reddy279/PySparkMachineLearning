{
 "cells": [
  {
   "cell_type": "code",
   "execution_count": 1,
   "metadata": {},
   "outputs": [
    {
     "name": "stdout",
     "output_type": "stream",
     "text": [
      "root\n",
      " |-- age: integer (nullable = true)\n",
      " |-- job: string (nullable = true)\n",
      " |-- marital: string (nullable = true)\n",
      " |-- education: string (nullable = true)\n",
      " |-- default: string (nullable = true)\n",
      " |-- balance: integer (nullable = true)\n",
      " |-- housing: string (nullable = true)\n",
      " |-- loan: string (nullable = true)\n",
      " |-- contact: string (nullable = true)\n",
      " |-- duration: integer (nullable = true)\n",
      " |-- campaign: integer (nullable = true)\n",
      " |-- pdays: integer (nullable = true)\n",
      " |-- previous: integer (nullable = true)\n",
      " |-- poutcome: string (nullable = true)\n",
      " |-- deposit: string (nullable = true)\n",
      "\n"
     ]
    }
   ],
   "source": [
    "from pyspark.sql import SparkSession\n",
    "spark = SparkSession.builder.appName('ml-bank').getOrCreate()\n",
    "df = spark.read.csv('bank.csv', sep=';', header = True, inferSchema = True)\n",
    "\n",
    "\n",
    "df = df.select('age', 'job', 'marital', 'education', 'default', 'balance', 'housing', 'loan', 'contact', 'duration', 'campaign', 'pdays', 'previous', 'poutcome', 'deposit')\n",
    "cols = df.columns\n",
    "df.printSchema()\n",
    "\n",
    "\n",
    "\n",
    "\n"
   ]
  },
  {
   "cell_type": "code",
   "execution_count": 2,
   "metadata": {},
   "outputs": [],
   "source": [
    "from pyspark.ml.feature import OneHotEncoderEstimator, StringIndexer, VectorAssembler\n",
    "categoricalColumns = ['job', 'marital', 'education', 'default', 'housing', 'loan', 'contact', 'poutcome']\n",
    "stages = []"
   ]
  },
  {
   "cell_type": "code",
   "execution_count": 3,
   "metadata": {},
   "outputs": [],
   "source": [
    "for categoricalCol in categoricalColumns:\n",
    "    stringIndexer = StringIndexer(inputCol = categoricalCol, outputCol = categoricalCol + 'Index')\n",
    "    encoder = OneHotEncoderEstimator(inputCols=[stringIndexer.getOutputCol()], outputCols=[categoricalCol + \"classVec\"])\n",
    "    stages += [stringIndexer, encoder]\n",
    "\n",
    "label_stringIdx = StringIndexer(inputCol = 'deposit', outputCol = 'label')\n",
    "stages += [label_stringIdx]\n",
    "\n",
    "numericCols = ['age', 'balance', 'duration', 'campaign', 'pdays', 'previous']\n",
    "assemblerInputs = [c + \"classVec\" for c in categoricalColumns] + numericCols\n",
    "assembler = VectorAssembler(inputCols=assemblerInputs, outputCol=\"features\")\n",
    "stages += [assembler]"
   ]
  },
  {
   "cell_type": "code",
   "execution_count": 4,
   "metadata": {},
   "outputs": [],
   "source": [
    "from pyspark.ml import Pipeline\n",
    "pipeline = Pipeline(stages = stages)"
   ]
  },
  {
   "cell_type": "code",
   "execution_count": 5,
   "metadata": {},
   "outputs": [
    {
     "name": "stdout",
     "output_type": "stream",
     "text": [
      "root\n",
      " |-- label: double (nullable = false)\n",
      " |-- features: vector (nullable = true)\n",
      " |-- age: integer (nullable = true)\n",
      " |-- job: string (nullable = true)\n",
      " |-- marital: string (nullable = true)\n",
      " |-- education: string (nullable = true)\n",
      " |-- default: string (nullable = true)\n",
      " |-- balance: integer (nullable = true)\n",
      " |-- housing: string (nullable = true)\n",
      " |-- loan: string (nullable = true)\n",
      " |-- contact: string (nullable = true)\n",
      " |-- duration: integer (nullable = true)\n",
      " |-- campaign: integer (nullable = true)\n",
      " |-- pdays: integer (nullable = true)\n",
      " |-- previous: integer (nullable = true)\n",
      " |-- poutcome: string (nullable = true)\n",
      " |-- deposit: string (nullable = true)\n",
      "\n"
     ]
    }
   ],
   "source": [
    "pipelineModel = pipeline.fit(df)\n",
    "df = pipelineModel.transform(df)\n",
    "selectedCols = ['label', 'features'] + cols\n",
    "df = df.select(selectedCols)\n",
    "df.printSchema()"
   ]
  },
  {
   "cell_type": "code",
   "execution_count": 12,
   "metadata": {},
   "outputs": [
    {
     "name": "stdout",
     "output_type": "stream",
     "text": [
      "+-----+-----------------------------------------------------------------------------------------------------------------+\n",
      "|label|features                                                                                                         |\n",
      "+-----+-----------------------------------------------------------------------------------------------------------------+\n",
      "|0.0  |(30,[8,11,15,16,18,19,21,24,25,26,27,28],[1.0,1.0,1.0,1.0,1.0,1.0,1.0,30.0,1787.0,79.0,1.0,-1.0])                |\n",
      "|0.0  |(30,[4,11,13,16,17,19,22,24,25,26,27,28,29],[1.0,1.0,1.0,1.0,1.0,1.0,1.0,33.0,4789.0,220.0,1.0,339.0,4.0])       |\n",
      "|0.0  |(30,[0,12,14,16,17,18,19,22,24,25,26,27,28,29],[1.0,1.0,1.0,1.0,1.0,1.0,1.0,1.0,35.0,1350.0,185.0,1.0,330.0,1.0])|\n",
      "|0.0  |(30,[0,11,14,16,17,20,21,24,25,26,27,28],[1.0,1.0,1.0,1.0,1.0,1.0,1.0,30.0,1476.0,199.0,4.0,-1.0])               |\n",
      "|0.0  |(30,[1,11,13,16,17,18,20,21,24,26,27,28],[1.0,1.0,1.0,1.0,1.0,1.0,1.0,1.0,59.0,226.0,1.0,-1.0])                  |\n",
      "|0.0  |(30,[0,12,14,16,18,19,22,24,25,26,27,28,29],[1.0,1.0,1.0,1.0,1.0,1.0,1.0,35.0,747.0,141.0,2.0,176.0,3.0])        |\n",
      "|0.0  |(30,[6,11,14,16,17,18,19,23,24,25,26,27,28,29],[1.0,1.0,1.0,1.0,1.0,1.0,1.0,1.0,36.0,307.0,341.0,1.0,330.0,2.0]) |\n",
      "|0.0  |(30,[2,11,13,16,17,18,19,21,24,25,26,27,28],[1.0,1.0,1.0,1.0,1.0,1.0,1.0,1.0,39.0,147.0,151.0,2.0,-1.0])         |\n",
      "|0.0  |(30,[7,11,14,16,17,18,20,21,24,25,26,27,28],[1.0,1.0,1.0,1.0,1.0,1.0,1.0,1.0,41.0,221.0,57.0,2.0,-1.0])          |\n",
      "|0.0  |(30,[4,11,15,16,17,19,22,24,25,26,27,28,29],[1.0,1.0,1.0,1.0,1.0,1.0,1.0,43.0,-88.0,313.0,1.0,147.0,2.0])        |\n",
      "|0.0  |(30,[4,11,13,16,17,18,20,21,24,25,26,27,28],[1.0,1.0,1.0,1.0,1.0,1.0,1.0,1.0,39.0,9374.0,273.0,1.0,-1.0])        |\n",
      "|0.0  |(30,[3,11,13,16,17,18,19,21,24,25,26,27,28],[1.0,1.0,1.0,1.0,1.0,1.0,1.0,1.0,43.0,264.0,113.0,2.0,-1.0])         |\n",
      "|0.0  |(30,[2,11,14,16,18,19,21,24,25,26,27,28],[1.0,1.0,1.0,1.0,1.0,1.0,1.0,36.0,1109.0,328.0,2.0,-1.0])               |\n",
      "|1.0  |(30,[10,12,13,16,18,19,21,24,25,26,27,28],[1.0,1.0,1.0,1.0,1.0,1.0,1.0,20.0,502.0,261.0,1.0,-1.0])               |\n",
      "|0.0  |(30,[1,11,13,16,17,19,22,24,25,26,27,28,29],[1.0,1.0,1.0,1.0,1.0,1.0,1.0,31.0,360.0,89.0,1.0,241.0,1.0])         |\n",
      "|0.0  |(30,[0,11,14,16,19,21,24,25,26,27,28],[1.0,1.0,1.0,1.0,1.0,1.0,40.0,194.0,189.0,2.0,-1.0])                       |\n",
      "|0.0  |(30,[2,11,13,16,18,19,21,24,25,26,27,28],[1.0,1.0,1.0,1.0,1.0,1.0,1.0,56.0,4073.0,239.0,5.0,-1.0])               |\n",
      "|0.0  |(30,[3,12,14,16,17,18,19,22,24,25,26,27,28,29],[1.0,1.0,1.0,1.0,1.0,1.0,1.0,1.0,37.0,2317.0,114.0,1.0,152.0,2.0])|\n",
      "|0.0  |(30,[1,12,15,16,17,18,20,21,24,25,26,27,28],[1.0,1.0,1.0,1.0,1.0,1.0,1.0,1.0,25.0,-221.0,250.0,1.0,-1.0])        |\n",
      "|0.0  |(30,[4,11,13,16,18,19,23,24,25,26,27,28,29],[1.0,1.0,1.0,1.0,1.0,1.0,1.0,31.0,132.0,148.0,1.0,152.0,1.0])        |\n",
      "+-----+-----------------------------------------------------------------------------------------------------------------+\n",
      "only showing top 20 rows\n",
      "\n"
     ]
    }
   ],
   "source": [
    "df.select('label','features').show(truncate=False)"
   ]
  },
  {
   "cell_type": "code",
   "execution_count": 14,
   "metadata": {},
   "outputs": [
    {
     "data": {
      "text/html": [
       "<div>\n",
       "<style scoped>\n",
       "    .dataframe tbody tr th:only-of-type {\n",
       "        vertical-align: middle;\n",
       "    }\n",
       "\n",
       "    .dataframe tbody tr th {\n",
       "        vertical-align: top;\n",
       "    }\n",
       "\n",
       "    .dataframe thead th {\n",
       "        text-align: right;\n",
       "    }\n",
       "</style>\n",
       "<table border=\"1\" class=\"dataframe\">\n",
       "  <thead>\n",
       "    <tr style=\"text-align: right;\">\n",
       "      <th></th>\n",
       "      <th>0</th>\n",
       "      <th>1</th>\n",
       "      <th>2</th>\n",
       "      <th>3</th>\n",
       "      <th>4</th>\n",
       "    </tr>\n",
       "  </thead>\n",
       "  <tbody>\n",
       "    <tr>\n",
       "      <th>label</th>\n",
       "      <td>0</td>\n",
       "      <td>0</td>\n",
       "      <td>0</td>\n",
       "      <td>0</td>\n",
       "      <td>0</td>\n",
       "    </tr>\n",
       "    <tr>\n",
       "      <th>features</th>\n",
       "      <td>(0.0, 0.0, 0.0, 0.0, 0.0, 0.0, 0.0, 0.0, 1.0, ...</td>\n",
       "      <td>(0.0, 0.0, 0.0, 0.0, 1.0, 0.0, 0.0, 0.0, 0.0, ...</td>\n",
       "      <td>(1.0, 0.0, 0.0, 0.0, 0.0, 0.0, 0.0, 0.0, 0.0, ...</td>\n",
       "      <td>(1.0, 0.0, 0.0, 0.0, 0.0, 0.0, 0.0, 0.0, 0.0, ...</td>\n",
       "      <td>(0.0, 1.0, 0.0, 0.0, 0.0, 0.0, 0.0, 0.0, 0.0, ...</td>\n",
       "    </tr>\n",
       "    <tr>\n",
       "      <th>age</th>\n",
       "      <td>30</td>\n",
       "      <td>33</td>\n",
       "      <td>35</td>\n",
       "      <td>30</td>\n",
       "      <td>59</td>\n",
       "    </tr>\n",
       "    <tr>\n",
       "      <th>job</th>\n",
       "      <td>unemployed</td>\n",
       "      <td>services</td>\n",
       "      <td>management</td>\n",
       "      <td>management</td>\n",
       "      <td>blue-collar</td>\n",
       "    </tr>\n",
       "    <tr>\n",
       "      <th>marital</th>\n",
       "      <td>married</td>\n",
       "      <td>married</td>\n",
       "      <td>single</td>\n",
       "      <td>married</td>\n",
       "      <td>married</td>\n",
       "    </tr>\n",
       "    <tr>\n",
       "      <th>education</th>\n",
       "      <td>primary</td>\n",
       "      <td>secondary</td>\n",
       "      <td>tertiary</td>\n",
       "      <td>tertiary</td>\n",
       "      <td>secondary</td>\n",
       "    </tr>\n",
       "    <tr>\n",
       "      <th>default</th>\n",
       "      <td>no</td>\n",
       "      <td>no</td>\n",
       "      <td>no</td>\n",
       "      <td>no</td>\n",
       "      <td>no</td>\n",
       "    </tr>\n",
       "    <tr>\n",
       "      <th>balance</th>\n",
       "      <td>1787</td>\n",
       "      <td>4789</td>\n",
       "      <td>1350</td>\n",
       "      <td>1476</td>\n",
       "      <td>0</td>\n",
       "    </tr>\n",
       "    <tr>\n",
       "      <th>housing</th>\n",
       "      <td>no</td>\n",
       "      <td>yes</td>\n",
       "      <td>yes</td>\n",
       "      <td>yes</td>\n",
       "      <td>yes</td>\n",
       "    </tr>\n",
       "    <tr>\n",
       "      <th>loan</th>\n",
       "      <td>no</td>\n",
       "      <td>yes</td>\n",
       "      <td>no</td>\n",
       "      <td>yes</td>\n",
       "      <td>no</td>\n",
       "    </tr>\n",
       "    <tr>\n",
       "      <th>contact</th>\n",
       "      <td>cellular</td>\n",
       "      <td>cellular</td>\n",
       "      <td>cellular</td>\n",
       "      <td>unknown</td>\n",
       "      <td>unknown</td>\n",
       "    </tr>\n",
       "    <tr>\n",
       "      <th>duration</th>\n",
       "      <td>79</td>\n",
       "      <td>220</td>\n",
       "      <td>185</td>\n",
       "      <td>199</td>\n",
       "      <td>226</td>\n",
       "    </tr>\n",
       "    <tr>\n",
       "      <th>campaign</th>\n",
       "      <td>1</td>\n",
       "      <td>1</td>\n",
       "      <td>1</td>\n",
       "      <td>4</td>\n",
       "      <td>1</td>\n",
       "    </tr>\n",
       "    <tr>\n",
       "      <th>pdays</th>\n",
       "      <td>-1</td>\n",
       "      <td>339</td>\n",
       "      <td>330</td>\n",
       "      <td>-1</td>\n",
       "      <td>-1</td>\n",
       "    </tr>\n",
       "    <tr>\n",
       "      <th>previous</th>\n",
       "      <td>0</td>\n",
       "      <td>4</td>\n",
       "      <td>1</td>\n",
       "      <td>0</td>\n",
       "      <td>0</td>\n",
       "    </tr>\n",
       "    <tr>\n",
       "      <th>poutcome</th>\n",
       "      <td>unknown</td>\n",
       "      <td>failure</td>\n",
       "      <td>failure</td>\n",
       "      <td>unknown</td>\n",
       "      <td>unknown</td>\n",
       "    </tr>\n",
       "    <tr>\n",
       "      <th>deposit</th>\n",
       "      <td>no</td>\n",
       "      <td>no</td>\n",
       "      <td>no</td>\n",
       "      <td>no</td>\n",
       "      <td>no</td>\n",
       "    </tr>\n",
       "  </tbody>\n",
       "</table>\n",
       "</div>"
      ],
      "text/plain": [
       "                                                           0  \\\n",
       "label                                                      0   \n",
       "features   (0.0, 0.0, 0.0, 0.0, 0.0, 0.0, 0.0, 0.0, 1.0, ...   \n",
       "age                                                       30   \n",
       "job                                               unemployed   \n",
       "marital                                              married   \n",
       "education                                            primary   \n",
       "default                                                   no   \n",
       "balance                                                 1787   \n",
       "housing                                                   no   \n",
       "loan                                                      no   \n",
       "contact                                             cellular   \n",
       "duration                                                  79   \n",
       "campaign                                                   1   \n",
       "pdays                                                     -1   \n",
       "previous                                                   0   \n",
       "poutcome                                             unknown   \n",
       "deposit                                                   no   \n",
       "\n",
       "                                                           1  \\\n",
       "label                                                      0   \n",
       "features   (0.0, 0.0, 0.0, 0.0, 1.0, 0.0, 0.0, 0.0, 0.0, ...   \n",
       "age                                                       33   \n",
       "job                                                 services   \n",
       "marital                                              married   \n",
       "education                                          secondary   \n",
       "default                                                   no   \n",
       "balance                                                 4789   \n",
       "housing                                                  yes   \n",
       "loan                                                     yes   \n",
       "contact                                             cellular   \n",
       "duration                                                 220   \n",
       "campaign                                                   1   \n",
       "pdays                                                    339   \n",
       "previous                                                   4   \n",
       "poutcome                                             failure   \n",
       "deposit                                                   no   \n",
       "\n",
       "                                                           2  \\\n",
       "label                                                      0   \n",
       "features   (1.0, 0.0, 0.0, 0.0, 0.0, 0.0, 0.0, 0.0, 0.0, ...   \n",
       "age                                                       35   \n",
       "job                                               management   \n",
       "marital                                               single   \n",
       "education                                           tertiary   \n",
       "default                                                   no   \n",
       "balance                                                 1350   \n",
       "housing                                                  yes   \n",
       "loan                                                      no   \n",
       "contact                                             cellular   \n",
       "duration                                                 185   \n",
       "campaign                                                   1   \n",
       "pdays                                                    330   \n",
       "previous                                                   1   \n",
       "poutcome                                             failure   \n",
       "deposit                                                   no   \n",
       "\n",
       "                                                           3  \\\n",
       "label                                                      0   \n",
       "features   (1.0, 0.0, 0.0, 0.0, 0.0, 0.0, 0.0, 0.0, 0.0, ...   \n",
       "age                                                       30   \n",
       "job                                               management   \n",
       "marital                                              married   \n",
       "education                                           tertiary   \n",
       "default                                                   no   \n",
       "balance                                                 1476   \n",
       "housing                                                  yes   \n",
       "loan                                                     yes   \n",
       "contact                                              unknown   \n",
       "duration                                                 199   \n",
       "campaign                                                   4   \n",
       "pdays                                                     -1   \n",
       "previous                                                   0   \n",
       "poutcome                                             unknown   \n",
       "deposit                                                   no   \n",
       "\n",
       "                                                           4  \n",
       "label                                                      0  \n",
       "features   (0.0, 1.0, 0.0, 0.0, 0.0, 0.0, 0.0, 0.0, 0.0, ...  \n",
       "age                                                       59  \n",
       "job                                              blue-collar  \n",
       "marital                                              married  \n",
       "education                                          secondary  \n",
       "default                                                   no  \n",
       "balance                                                    0  \n",
       "housing                                                  yes  \n",
       "loan                                                      no  \n",
       "contact                                              unknown  \n",
       "duration                                                 226  \n",
       "campaign                                                   1  \n",
       "pdays                                                     -1  \n",
       "previous                                                   0  \n",
       "poutcome                                             unknown  \n",
       "deposit                                                   no  "
      ]
     },
     "execution_count": 14,
     "metadata": {},
     "output_type": "execute_result"
    }
   ],
   "source": [
    "import pandas as pd\n",
    "pd.DataFrame(df.take(5), columns=df.columns).transpose()"
   ]
  },
  {
   "cell_type": "code",
   "execution_count": 16,
   "metadata": {},
   "outputs": [
    {
     "name": "stdout",
     "output_type": "stream",
     "text": [
      "Training Dataset Count: 3173\n",
      "Test Dataset Count: 1348\n"
     ]
    }
   ],
   "source": [
    "train, test = df.randomSplit([0.7, 0.3], seed = 2018)\n",
    "print(\"Training Dataset Count: \" + str(train.count()))\n",
    "print(\"Test Dataset Count: \" + str(test.count()))"
   ]
  },
  {
   "cell_type": "code",
   "execution_count": 17,
   "metadata": {},
   "outputs": [],
   "source": [
    "from pyspark.ml.classification import LogisticRegression"
   ]
  },
  {
   "cell_type": "code",
   "execution_count": 18,
   "metadata": {},
   "outputs": [],
   "source": [
    "lr = LogisticRegression(featuresCol = 'features', labelCol = 'label', maxIter=10)"
   ]
  },
  {
   "cell_type": "code",
   "execution_count": 19,
   "metadata": {},
   "outputs": [],
   "source": [
    "lrModel = lr.fit(train)"
   ]
  },
  {
   "cell_type": "code",
   "execution_count": 22,
   "metadata": {},
   "outputs": [],
   "source": [
    "#pip install matplotlib\n",
    "\n",
    "import matplotlib.pyplot as plt\n",
    "import numpy as np\n"
   ]
  },
  {
   "cell_type": "code",
   "execution_count": 23,
   "metadata": {},
   "outputs": [
    {
     "data": {
      "image/png": "[encoded data removed]",
      "text/plain": [
       "<Figure size 432x288 with 1 Axes>"
      ]
     },
     "metadata": {
      "needs_background": "light"
     },
     "output_type": "display_data"
    }
   ],
   "source": [
    "beta = np.sort(lrModel.coefficients)\n",
    "\n",
    "plt.plot(beta)\n",
    "plt.ylabel('Beta Coefficients')\n",
    "plt.show()"
   ]
  },
  {
   "cell_type": "code",
   "execution_count": 24,
   "metadata": {},
   "outputs": [
    {
     "data": {
      "image/png": "[encoded data removed]",
      "text/plain": [
       "<Figure size 432x288 with 1 Axes>"
      ]
     },
     "metadata": {
      "needs_background": "light"
     },
     "output_type": "display_data"
    },
    {
     "name": "stdout",
     "output_type": "stream",
     "text": [
      "Training set areaUnderROC: 0.8871696776478928\n"
     ]
    }
   ],
   "source": [
    "trainingSummary = lrModel.summary\n",
    "\n",
    "roc = trainingSummary.roc.toPandas()\n",
    "plt.plot(roc['FPR'],roc['TPR'])\n",
    "plt.ylabel('False Positive Rate')\n",
    "plt.xlabel('True Positive Rate')\n",
    "plt.title('ROC Curve')\n",
    "plt.show()\n",
    "\n",
    "print('Training set areaUnderROC: ' + str(trainingSummary.areaUnderROC))"
   ]
  },
  {
   "cell_type": "code",
   "execution_count": 25,
   "metadata": {},
   "outputs": [
    {
     "data": {
      "image/png": "[encoded data removed]",
      "text/plain": [
       "<Figure size 432x288 with 1 Axes>"
      ]
     },
     "metadata": {
      "needs_background": "light"
     },
     "output_type": "display_data"
    }
   ],
   "source": [
    "pr = trainingSummary.pr.toPandas()\n",
    "plt.plot(pr['recall'],pr['precision'])\n",
    "plt.ylabel('Precision')\n",
    "plt.xlabel('Recall')\n",
    "plt.show()"
   ]
  },
  {
   "cell_type": "code",
   "execution_count": 26,
   "metadata": {},
   "outputs": [
    {
     "data": {
      "image/png": "[encoded data removed]",
      "text/plain": [
       "<Figure size 432x288 with 1 Axes>"
      ]
     },
     "metadata": {
      "needs_background": "light"
     },
     "output_type": "display_data"
    }
   ],
   "source": [
    "f = trainingSummary.fMeasureByThreshold.toPandas()\n",
    "plt.plot(f['threshold'],f['F-Measure'])\n",
    "plt.ylabel('F-Measure')\n",
    "plt.xlabel('Threshold')\n",
    "plt.show()"
   ]
  },
  {
   "cell_type": "code",
   "execution_count": 28,
   "metadata": {},
   "outputs": [
    {
     "name": "stdout",
     "output_type": "stream",
     "text": [
      "+---+----------+-----+--------------------+----------+--------------------+\n",
      "|age|       job|label|       rawPrediction|prediction|         probability|\n",
      "+---+----------+-----+--------------------+----------+--------------------+\n",
      "| 33|management|  0.0|[3.51342641415056...|       0.0|[0.97106738658008...|\n",
      "| 34|management|  0.0|[3.35826661570623...|       0.0|[0.96637449620340...|\n",
      "| 56|management|  0.0|[0.15206865663443...|       0.0|[0.53794407132858...|\n",
      "| 40|management|  0.0|[3.46081178098929...|       0.0|[0.96955194043865...|\n",
      "| 33|management|  0.0|[3.82215666145288...|       0.0|[0.97858794672810...|\n",
      "| 36|management|  0.0|[4.02379947861651...|       0.0|[0.98242936626500...|\n",
      "| 43|management|  0.0|[3.37027529246647...|       0.0|[0.96676253819658...|\n",
      "| 48|management|  0.0|[3.33028886920122...|       0.0|[0.96545340570045...|\n",
      "| 49|management|  0.0|[4.59227554826617...|       0.0|[0.98997180213091...|\n",
      "| 52|management|  0.0|[4.16687744500451...|       0.0|[0.98473601465172...|\n",
      "| 44|management|  0.0|[3.89590278106992...|       0.0|[0.98007986006196...|\n",
      "| 30|management|  0.0|[4.45160538150866...|       0.0|[0.98847455135552...|\n",
      "| 32|management|  0.0|[4.08043849360845...|       0.0|[0.98338081170832...|\n",
      "| 44|management|  0.0|[1.83437026773709...|       0.0|[0.86228152743244...|\n",
      "| 50|management|  0.0|[0.39909319359963...|       0.0|[0.59846977064632...|\n",
      "| 57|management|  0.0|[2.74557720399465...|       0.0|[0.93966308038876...|\n",
      "| 59|management|  0.0|[2.91011247729600...|       0.0|[0.94834407480351...|\n",
      "| 61|management|  0.0|[2.27486399585773...|       0.0|[0.90677378043159...|\n",
      "| 58|management|  0.0|[1.83534217710497...|       0.0|[0.86239690307251...|\n",
      "| 50|management|  0.0|[3.01076041303717...|       0.0|[0.95305788582258...|\n",
      "| 30|management|  0.0|[3.28597525241457...|       0.0|[0.96394453301945...|\n",
      "| 31|management|  0.0|[3.28974821555671...|       0.0|[0.96407543483601...|\n",
      "| 32|management|  0.0|[3.58597057962582...|       0.0|[0.97303736801668...|\n",
      "| 34|management|  0.0|[3.67898838406472...|       0.0|[0.97537328402070...|\n",
      "| 36|management|  0.0|[6.21373537141360...|       0.0|[0.99800225276707...|\n",
      "| 36|management|  0.0|[3.41988365487773...|       0.0|[0.96832020279059...|\n",
      "| 37|management|  0.0|[3.30978576756750...|       0.0|[0.96476299861155...|\n",
      "| 40|management|  0.0|[-4.4574963423529...|       1.0|[0.01145852797268...|\n",
      "| 40|management|  0.0|[3.15347248451513...|       0.0|[0.95904532953150...|\n",
      "| 41|management|  0.0|[2.55892466027989...|       0.0|[0.92817079808803...|\n",
      "| 44|management|  0.0|[1.83411424827348...|       0.0|[0.86225112176481...|\n",
      "| 44|management|  0.0|[2.44801954652719...|       0.0|[0.92041650340391...|\n",
      "| 45|management|  0.0|[3.25552481420143...|       0.0|[0.96287113239040...|\n",
      "| 47|management|  0.0|[3.43814691187692...|       0.0|[0.96887568339513...|\n",
      "| 48|management|  0.0|[3.32481807097283...|       0.0|[0.96527047210553...|\n",
      "| 49|management|  0.0|[1.83504831790420...|       0.0|[0.86236202753269...|\n",
      "| 50|management|  0.0|[3.21437974875635...|       0.0|[0.96137184105884...|\n",
      "| 51|management|  0.0|[3.03619090658702...|       0.0|[0.95418259040287...|\n",
      "| 51|management|  0.0|[0.68387083630726...|       0.0|[0.66460207966766...|\n",
      "| 52|management|  0.0|[3.49709689808721...|       0.0|[0.97060505425240...|\n",
      "| 54|management|  0.0|[3.21674928105948...|       0.0|[0.96145973993268...|\n",
      "| 52|management|  0.0|[2.75465375271012...|       0.0|[0.94017563885850...|\n",
      "| 31|management|  0.0|[3.02724566591539...|       0.0|[0.95378992813037...|\n",
      "| 31|management|  0.0|[4.16503467371158...|       0.0|[0.98470829120727...|\n",
      "| 32|management|  0.0|[-0.8246167687081...|       1.0|[0.30478452780764...|\n",
      "| 34|management|  0.0|[3.36987501182340...|       0.0|[0.96674967368219...|\n",
      "| 31|management|  0.0|[1.43137113760570...|       0.0|[0.80711486499097...|\n",
      "| 43|management|  0.0|[2.70629794430479...|       0.0|[0.93739724996011...|\n",
      "| 50|management|  0.0|[2.18321325922188...|       0.0|[0.89873189498642...|\n",
      "| 28|management|  0.0|[5.11146918959989...|       0.0|[0.99400888847027...|\n",
      "| 34|management|  0.0|[0.63491134060029...|       0.0|[0.65360225812212...|\n",
      "| 35|management|  0.0|[4.25389703976486...|       0.0|[0.98599030648930...|\n",
      "| 35|management|  0.0|[3.79454862526466...|       0.0|[0.97800175151902...|\n",
      "| 36|management|  0.0|[3.87538094349411...|       0.0|[0.97967523326491...|\n",
      "| 37|management|  0.0|[1.98343192472517...|       0.0|[0.87904653207044...|\n",
      "| 38|management|  0.0|[3.59609264410054...|       0.0|[0.97330165922876...|\n",
      "| 39|management|  0.0|[4.11798253735755...|       0.0|[0.98398338730959...|\n",
      "| 41|management|  0.0|[6.54497976566075...|       0.0|[0.99856474973873...|\n",
      "| 41|management|  0.0|[3.80305054437931...|       0.0|[0.97818392314415...|\n",
      "| 43|management|  0.0|[3.89566659028290...|       0.0|[0.98007524830885...|\n",
      "| 44|management|  0.0|[4.43139305780544...|       0.0|[0.98824199199119...|\n",
      "| 46|management|  0.0|[4.60556127546453...|       0.0|[0.99010284300092...|\n",
      "| 57|management|  0.0|[4.34626328450039...|       0.0|[0.98721055703180...|\n",
      "| 55|management|  0.0|[4.02284900659325...|       0.0|[0.98241295178035...|\n",
      "| 31|management|  0.0|[3.84245840647829...|       0.0|[0.97900923315032...|\n",
      "| 58|management|  0.0|[3.44732119748753...|       0.0|[0.96915115253283...|\n",
      "| 29|management|  0.0|[1.41112316877736...|       0.0|[0.80394303639606...|\n",
      "| 29|management|  0.0|[4.15141204278109...|       0.0|[0.98450180312047...|\n",
      "| 32|management|  0.0|[4.64673315238770...|       0.0|[0.99049825983689...|\n",
      "| 34|management|  0.0|[0.21398959978345...|       0.0|[0.55329418637481...|\n",
      "| 38|management|  0.0|[3.77856768184776...|       0.0|[0.97765529310558...|\n",
      "| 48|management|  0.0|[4.06945908075677...|       0.0|[0.98320041969319...|\n",
      "| 34|management|  0.0|[4.96549467402117...|       0.0|[0.99307380697971...|\n",
      "| 37|management|  0.0|[5.24670168444797...|       0.0|[0.99476271858126...|\n",
      "| 41|management|  0.0|[5.66836312978009...|       0.0|[0.99655837210314...|\n",
      "| 51|management|  0.0|[5.17078575742261...|       0.0|[0.99435197747319...|\n",
      "| 31|management|  0.0|[1.16828855585182...|       0.0|[0.76283552484593...|\n",
      "| 31|management|  0.0|[1.91849296793228...|       0.0|[0.87197028576512...|\n",
      "| 33|management|  0.0|[2.51353938549167...|       0.0|[0.92508554733765...|\n",
      "| 34|management|  0.0|[2.54972961350761...|       0.0|[0.92755534773322...|\n",
      "| 37|management|  0.0|[1.64759284556385...|       0.0|[0.83856545117204...|\n",
      "| 39|management|  0.0|[0.78629755014650...|       0.0|[0.68703579046563...|\n",
      "| 42|management|  0.0|[1.26555020698992...|       0.0|[0.77998006520743...|\n",
      "| 42|management|  0.0|[2.32733768190706...|       0.0|[0.91111596833303...|\n",
      "| 43|management|  0.0|[2.50202857365916...|       0.0|[0.92428390822967...|\n",
      "| 44|management|  0.0|[4.71101689235684...|       0.0|[0.99108457448063...|\n",
      "| 45|management|  0.0|[2.32347454789809...|       0.0|[0.91080262033129...|\n",
      "| 46|management|  0.0|[2.17163401715302...|       0.0|[0.89767315849395...|\n",
      "| 47|management|  0.0|[1.04175700773470...|       0.0|[0.73918887961264...|\n",
      "| 47|management|  0.0|[2.29378116922396...|       0.0|[0.90836068682940...|\n",
      "| 48|management|  0.0|[2.13064967033480...|       0.0|[0.89384666794071...|\n",
      "| 50|management|  0.0|[0.94325189948429...|       0.0|[0.71975605770162...|\n",
      "| 51|management|  0.0|[2.10286424552813...|       0.0|[0.89118125676490...|\n",
      "| 52|management|  0.0|[3.20927868728347...|       0.0|[0.96118196144884...|\n",
      "| 52|management|  0.0|[1.37134713205615...|       0.0|[0.79759771582855...|\n",
      "| 55|management|  0.0|[2.47734394007285...|       0.0|[0.92253820481780...|\n",
      "| 58|management|  0.0|[2.81854663823532...|       0.0|[0.94366985979224...|\n",
      "| 58|management|  0.0|[2.65530189642343...|       0.0|[0.93433701905052...|\n",
      "| 58|management|  0.0|[1.88916172440180...|       0.0|[0.86865992136637...|\n",
      "| 59|management|  0.0|[0.96581318518132...|       0.0|[0.72428419070210...|\n",
      "+---+----------+-----+--------------------+----------+--------------------+\n",
      "only showing top 100 rows\n",
      "\n"
     ]
    }
   ],
   "source": [
    "predictions = lrModel.transform(test)\n",
    "predictions.select('age', 'job', 'label', 'rawPrediction', 'prediction', 'probability').show(100)"
   ]
  },
  {
   "cell_type": "code",
   "execution_count": 29,
   "metadata": {},
   "outputs": [
    {
     "name": "stdout",
     "output_type": "stream",
     "text": [
      "Test Area Under ROC 0.8723337655949569\n"
     ]
    }
   ],
   "source": [
    "from pyspark.ml.evaluation import BinaryClassificationEvaluator\n",
    "\n",
    "evaluator = BinaryClassificationEvaluator()\n",
    "print('Test Area Under ROC', evaluator.evaluate(predictions))"
   ]
  },
  {
   "cell_type": "code",
   "execution_count": 30,
   "metadata": {},
   "outputs": [
    {
     "data": {
      "text/plain": [
       "'areaUnderROC'"
      ]
     },
     "execution_count": 30,
     "metadata": {},
     "output_type": "execute_result"
    }
   ],
   "source": [
    "evaluator.getMetricName()"
   ]
  },
  {
   "cell_type": "code",
   "execution_count": 31,
   "metadata": {},
   "outputs": [],
   "source": [
    "from pyspark.ml.tuning import ParamGridBuilder, CrossValidator"
   ]
  },
  {
   "cell_type": "code",
   "execution_count": 32,
   "metadata": {},
   "outputs": [],
   "source": [
    "paramGrid = (ParamGridBuilder()\n",
    "             .addGrid(lr.regParam, [0.01, 0.5, 2.0])\n",
    "             .addGrid(lr.elasticNetParam, [0.0, 0.5, 1.0])\n",
    "             .addGrid(lr.maxIter, [1, 5, 10])\n",
    "             .build())"
   ]
  },
  {
   "cell_type": "code",
   "execution_count": 33,
   "metadata": {},
   "outputs": [],
   "source": [
    "cv = CrossValidator(estimator=lr, estimatorParamMaps=paramGrid, evaluator=evaluator, numFolds=5)"
   ]
  },
  {
   "cell_type": "code",
   "execution_count": 35,
   "metadata": {},
   "outputs": [
    {
     "name": "stdout",
     "output_type": "stream",
     "text": [
      "Test Area Under ROC 0.8705749079580852\n"
     ]
    }
   ],
   "source": [
    "cvModel = cv.fit(train)\n",
    "predictions = cvModel.transform(test)\n",
    "print('Test Area Under ROC', evaluator.evaluate(predictions))"
   ]
  },
  {
   "cell_type": "code",
   "execution_count": 36,
   "metadata": {},
   "outputs": [
    {
     "data": {
      "text/plain": [
       "'areaUnderROC'"
      ]
     },
     "execution_count": 36,
     "metadata": {},
     "output_type": "execute_result"
    }
   ],
   "source": [
    "evaluator.getMetricName()"
   ]
  },
  {
   "cell_type": "markdown",
   "metadata": {},
   "source": [
    "# Decision Tree Classifier"
   ]
  },
  {
   "cell_type": "markdown",
   "metadata": {},
   "source": [
    "Decision trees are widely used since they are easy to interpret, handle categorical features, extend to the multiclass classification setting, do not require feature scaling, and are able to capture non-linearities and feature interactions."
   ]
  },
  {
   "cell_type": "code",
   "execution_count": 37,
   "metadata": {},
   "outputs": [],
   "source": [
    "from pyspark.ml.classification import DecisionTreeClassifier\n",
    "\n",
    "dt = DecisionTreeClassifier(featuresCol = 'features', labelCol = 'label', maxDepth = 3)\n",
    "dtModel = dt.fit(train)"
   ]
  },
  {
   "cell_type": "code",
   "execution_count": 38,
   "metadata": {},
   "outputs": [],
   "source": [
    "predictions = dtModel.transform(test)"
   ]
  },
  {
   "cell_type": "code",
   "execution_count": 39,
   "metadata": {},
   "outputs": [
    {
     "name": "stdout",
     "output_type": "stream",
     "text": [
      "+---+----------+-----+--------------+----------+--------------------+\n",
      "|age|       job|label| rawPrediction|prediction|         probability|\n",
      "+---+----------+-----+--------------+----------+--------------------+\n",
      "| 33|management|  0.0|[2662.0,214.0]|       0.0|[0.92559109874826...|\n",
      "| 34|management|  0.0|[2662.0,214.0]|       0.0|[0.92559109874826...|\n",
      "| 56|management|  0.0|   [91.0,43.0]|       0.0|[0.67910447761194...|\n",
      "| 40|management|  0.0|[2662.0,214.0]|       0.0|[0.92559109874826...|\n",
      "| 33|management|  0.0|[2662.0,214.0]|       0.0|[0.92559109874826...|\n",
      "| 36|management|  0.0|[2662.0,214.0]|       0.0|[0.92559109874826...|\n",
      "| 43|management|  0.0|[2662.0,214.0]|       0.0|[0.92559109874826...|\n",
      "| 48|management|  0.0|[2662.0,214.0]|       0.0|[0.92559109874826...|\n",
      "| 49|management|  0.0|[2662.0,214.0]|       0.0|[0.92559109874826...|\n",
      "| 52|management|  0.0|[2662.0,214.0]|       0.0|[0.92559109874826...|\n",
      "+---+----------+-----+--------------+----------+--------------------+\n",
      "only showing top 10 rows\n",
      "\n"
     ]
    }
   ],
   "source": [
    "predictions.select('age', 'job', 'label', 'rawPrediction', 'prediction', 'probability').show(10)"
   ]
  },
  {
   "cell_type": "markdown",
   "metadata": {},
   "source": [
    "Evaluate our Decision Tree model"
   ]
  },
  {
   "cell_type": "code",
   "execution_count": 41,
   "metadata": {},
   "outputs": [
    {
     "name": "stdout",
     "output_type": "stream",
     "text": [
      "Test Area Under ROC: 0.3711512567882464\n"
     ]
    }
   ],
   "source": [
    "evaluator = BinaryClassificationEvaluator()\n",
    "print(\"Test Area Under ROC: \" + str(evaluator.evaluate(predictions, {evaluator.metricName: \"areaUnderROC\"})))"
   ]
  },
  {
   "cell_type": "code",
   "execution_count": 42,
   "metadata": {},
   "outputs": [
    {
     "data": {
      "text/plain": [
       "'areaUnderROC'"
      ]
     },
     "execution_count": 42,
     "metadata": {},
     "output_type": "execute_result"
    }
   ],
   "source": [
    "\n",
    "evaluator.getMetricName()"
   ]
  },
  {
   "cell_type": "markdown",
   "metadata": {},
   "source": [
    "One simple decision tree performed poorly because it is too weak given the range of different features. The prediction accuracy of decision trees can be improved by Ensemble methods."
   ]
  },
  {
   "cell_type": "markdown",
   "metadata": {},
   "source": [
    "# Random Forest Classifier"
   ]
  },
  {
   "cell_type": "code",
   "execution_count": 43,
   "metadata": {},
   "outputs": [],
   "source": [
    "from pyspark.ml.classification import RandomForestClassifier\n",
    "rf = RandomForestClassifier(featuresCol = 'features', labelCol = 'label')\n",
    "rfModel = rf.fit(train)"
   ]
  },
  {
   "cell_type": "code",
   "execution_count": 44,
   "metadata": {},
   "outputs": [
    {
     "name": "stdout",
     "output_type": "stream",
     "text": [
      "+---+----------+-----+--------------------+----------+--------------------+\n",
      "|age|       job|label|       rawPrediction|prediction|         probability|\n",
      "+---+----------+-----+--------------------+----------+--------------------+\n",
      "| 33|management|  0.0|[18.7174300470765...|       0.0|[0.93587150235382...|\n",
      "| 34|management|  0.0|[18.7174300470765...|       0.0|[0.93587150235382...|\n",
      "| 56|management|  0.0|[14.2908005197425...|       0.0|[0.71454002598712...|\n",
      "| 40|management|  0.0|[17.3282472119175...|       0.0|[0.86641236059587...|\n",
      "| 33|management|  0.0|[19.0159801998780...|       0.0|[0.95079900999390...|\n",
      "| 36|management|  0.0|[19.0159801998780...|       0.0|[0.95079900999390...|\n",
      "| 43|management|  0.0|[19.0159801998780...|       0.0|[0.95079900999390...|\n",
      "| 48|management|  0.0|[19.0159801998780...|       0.0|[0.95079900999390...|\n",
      "| 49|management|  0.0|[19.0159801998780...|       0.0|[0.95079900999390...|\n",
      "| 52|management|  0.0|[19.0159801998780...|       0.0|[0.95079900999390...|\n",
      "+---+----------+-----+--------------------+----------+--------------------+\n",
      "only showing top 10 rows\n",
      "\n"
     ]
    }
   ],
   "source": [
    "predictions = rfModel.transform(test)\n",
    "predictions.select('age', 'job', 'label', 'rawPrediction', 'prediction', 'probability').show(10)"
   ]
  },
  {
   "cell_type": "markdown",
   "metadata": {},
   "source": [
    "Evaluate our Random Forest Classifier"
   ]
  },
  {
   "cell_type": "code",
   "execution_count": 45,
   "metadata": {},
   "outputs": [
    {
     "name": "stdout",
     "output_type": "stream",
     "text": [
      "Test Area Under ROC: 0.8354201135804675\n"
     ]
    }
   ],
   "source": [
    "\n",
    "evaluator = BinaryClassificationEvaluator()\n",
    "print(\"Test Area Under ROC: \" + str(evaluator.evaluate(predictions, {evaluator.metricName: \"areaUnderROC\"})))"
   ]
  },
  {
   "cell_type": "code",
   "execution_count": 46,
   "metadata": {},
   "outputs": [
    {
     "data": {
      "text/plain": [
       "'areaUnderROC'"
      ]
     },
     "execution_count": 46,
     "metadata": {},
     "output_type": "execute_result"
    }
   ],
   "source": [
    "evaluator.getMetricName()"
   ]
  },
  {
   "cell_type": "markdown",
   "metadata": {},
   "source": [
    "# Gradient-boosted Tree Classifier"
   ]
  },
  {
   "cell_type": "code",
   "execution_count": 47,
   "metadata": {},
   "outputs": [],
   "source": [
    "from pyspark.ml.classification import GBTClassifier\n",
    "\n",
    "gbt = GBTClassifier(maxIter=10)\n",
    "gbtModel = gbt.fit(train)"
   ]
  },
  {
   "cell_type": "code",
   "execution_count": 48,
   "metadata": {},
   "outputs": [
    {
     "name": "stdout",
     "output_type": "stream",
     "text": [
      "+---+----------+-----+--------------------+----------+--------------------+\n",
      "|age|       job|label|       rawPrediction|prediction|         probability|\n",
      "+---+----------+-----+--------------------+----------+--------------------+\n",
      "| 33|management|  0.0|[1.21532705685181...|       0.0|[0.91913516358400...|\n",
      "| 34|management|  0.0|[0.98853000118932...|       0.0|[0.87836740758035...|\n",
      "| 56|management|  0.0|[0.25541202082856...|       0.0|[0.62499962919316...|\n",
      "| 40|management|  0.0|[1.26786559017846...|       0.0|[0.92660905486563...|\n",
      "| 33|management|  0.0|[1.06987730458291...|       0.0|[0.89470749542925...|\n",
      "| 36|management|  0.0|[1.24664062146438...|       0.0|[0.92366946584406...|\n",
      "| 43|management|  0.0|[1.14247446436973...|       0.0|[0.90762282095276...|\n",
      "| 48|management|  0.0|[1.06987730458291...|       0.0|[0.89470749542925...|\n",
      "| 49|management|  0.0|[1.29372361571814...|       0.0|[0.93004932238961...|\n",
      "| 52|management|  0.0|[1.27681611302830...|       0.0|[0.92781715216853...|\n",
      "+---+----------+-----+--------------------+----------+--------------------+\n",
      "only showing top 10 rows\n",
      "\n"
     ]
    }
   ],
   "source": [
    "predictions = gbtModel.transform(test)\n",
    "predictions.select('age', 'job', 'label', 'rawPrediction', 'prediction', 'probability').show(10)"
   ]
  },
  {
   "cell_type": "markdown",
   "metadata": {},
   "source": [
    "Evaluate Gradient Boosted Tree Classifier"
   ]
  },
  {
   "cell_type": "code",
   "execution_count": 54,
   "metadata": {},
   "outputs": [
    {
     "name": "stdout",
     "output_type": "stream",
     "text": [
      "Test Area Under ROC: 0.8563922550641682\n"
     ]
    }
   ],
   "source": [
    "evaluator = BinaryClassificationEvaluator()\n",
    "print(\"Test Area Under ROC: \" + str(evaluator.evaluate(predictions, {evaluator.metricName: \"areaUnderROC\"})))"
   ]
  },
  {
   "cell_type": "code",
   "execution_count": 55,
   "metadata": {},
   "outputs": [
    {
     "data": {
      "text/plain": [
       "'areaUnderROC'"
      ]
     },
     "execution_count": 55,
     "metadata": {},
     "output_type": "execute_result"
    }
   ],
   "source": [
    "evaluator.getMetricName()"
   ]
  },
  {
   "cell_type": "markdown",
   "metadata": {},
   "source": [
    "we will try tuning this model with the ParamGridBuilder and the CrossValidator."
   ]
  },
  {
   "cell_type": "code",
   "execution_count": 56,
   "metadata": {},
   "outputs": [
    {
     "data": {
      "text/plain": [
       "0.8660858461645472"
      ]
     },
     "execution_count": 56,
     "metadata": {},
     "output_type": "execute_result"
    }
   ],
   "source": [
    "from pyspark.ml.tuning import ParamGridBuilder, CrossValidator\n",
    "\n",
    "paramGrid = (ParamGridBuilder()\n",
    "             .addGrid(gbt.maxDepth, [2, 4, 6])\n",
    "             .addGrid(gbt.maxBins, [20, 60])\n",
    "             .addGrid(gbt.maxIter, [10, 20])\n",
    "             .build())\n",
    "\n",
    "cv = CrossValidator(estimator=gbt, estimatorParamMaps=paramGrid, evaluator=evaluator, numFolds=5)\n",
    "\n",
    "# Run cross validations.  This can take about 6 minutes since it is training over 20 trees!\n",
    "cvModel = cv.fit(train)\n",
    "predictions = cvModel.transform(test)\n",
    "evaluator.evaluate(predictions)"
   ]
  },
  {
   "cell_type": "code",
   "execution_count": null,
   "metadata": {},
   "outputs": [],
   "source": []
  }
 ],
 "metadata": {
  "kernelspec": {
   "display_name": "Python 3",
   "language": "python",
   "name": "python3"
  },
  "language_info": {
   "codemirror_mode": {
    "name": "ipython",
    "version": 3
   },
   "file_extension": ".py",
   "mimetype": "text/x-python",
   "name": "python",
   "nbconvert_exporter": "python",
   "pygments_lexer": "ipython3",
   "version": "3.7.7"
  }
 },
 "nbformat": 4,
 "nbformat_minor": 4
}
